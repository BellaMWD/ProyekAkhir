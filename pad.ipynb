{
  "cells": [
    {
      "cell_type": "markdown",
      "metadata": {
        "id": "H9wADwK78DCz"
      },
      "source": [
        "# Proyek Analisis Data: Bike-sharing-dataset\n",
        "- **Nama:** Bella Melati Wiranur Dwifani\n",
        "- **Email:** bellamelati21@if.unjani.ac.id\n",
        "- **ID Dicoding:** JLX12JYJ6Z72"
      ]
    },
    {
      "cell_type": "markdown",
      "metadata": {
        "id": "eE0raob58DC0"
      },
      "source": [
        "## Menentukan Pertanyaan Bisnis"
      ]
    },
    {
      "cell_type": "markdown",
      "metadata": {
        "id": "GmQeQ5YF8DC0"
      },
      "source": [
        "- Bagaimana pola dari penggunaan bike-sharing bisa dipengaruhi oleh kondisi cuaca? Akankah ada perbedaan secara signifikan antara pengguna terdaftar dan pengguna yang belum terdaftar dalam pola penggunaan pada hari kerja dan diluar hari kerja?\n",
        "- Bagaimana korelasi antara suhu dan jumlah perjalanan pada hari kerja dan diluar hari kerja? Apakah nantinya akan terdapat sebuah gaya/mode tertentu yang dapat diidentifikasi berdasarkan variabel cuaca dan hari kerja?"
      ]
    },
    {
      "cell_type": "markdown",
      "metadata": {
        "id": "H-z4QGlO8DC1"
      },
      "source": [
        "## Import Semua Packages/Library yang Digunakan"
      ]
    },
    {
      "cell_type": "code",
      "execution_count": 126,
      "metadata": {
        "id": "FVYwaObI8DC1"
      },
      "outputs": [],
      "source": [
        "import numpy as np\n",
        "import pandas as pd\n",
        "import matplotlib.pyplot as plt\n",
        "import seaborn as sn\n",
        "import streamlit as st"
      ]
    },
    {
      "cell_type": "markdown",
      "metadata": {
        "id": "h_Sh51Xy8DC1"
      },
      "source": [
        "## Data Wrangling"
      ]
    },
    {
      "cell_type": "markdown",
      "metadata": {
        "id": "sXU2GBYu8DC1"
      },
      "source": [
        "### Gathering Data"
      ]
    },
    {
      "cell_type": "code",
      "execution_count": 131,
      "metadata": {
        "id": "zjCBk1BI8DC1",
        "colab": {
          "base_uri": "https://localhost:8080/"
        },
        "outputId": "31530827-bf28-474c-898e-5b250b3e56e0"
      },
      "outputs": [
        {
          "output_type": "execute_result",
          "data": {
            "text/plain": [
              "DeltaGenerator()"
            ]
          },
          "metadata": {},
          "execution_count": 131
        }
      ],
      "source": [
        "day_df=pd.read_csv('day.csv')\n",
        "day_df.head()\n",
        "hour_df=pd.read_csv('hour.csv')\n",
        "hour_df.head()\n",
        "\n",
        "st.title('Bike Sharing Data Analysis')"
      ]
    },
    {
      "cell_type": "markdown",
      "metadata": {
        "id": "FHSiqaZp8DC1"
      },
      "source": [
        "### Assessing Data"
      ]
    },
    {
      "cell_type": "code",
      "source": [
        "st.header('Assesing Data')\n",
        "st.subheader('Day Dataset')\n",
        "st.write(day_df.head())\n",
        "st.write(day_df.info())\n",
        "st.write(day_df.describe())\n",
        "\n",
        "st.subheader('Hour Dataset')\n",
        "st.write(hour_df.head())\n",
        "st.write(hour_df.info())\n",
        "st.write(hour_df.describe())"
      ],
      "metadata": {
        "id": "ax-3tEjc9Cj1",
        "colab": {
          "base_uri": "https://localhost:8080/"
        },
        "outputId": "503a13db-a0ff-45e4-985c-f7cd8ee76fcf"
      },
      "execution_count": 132,
      "outputs": [
        {
          "output_type": "stream",
          "name": "stdout",
          "text": [
            "<class 'pandas.core.frame.DataFrame'>\n",
            "RangeIndex: 731 entries, 0 to 730\n",
            "Data columns (total 16 columns):\n",
            " #   Column      Non-Null Count  Dtype  \n",
            "---  ------      --------------  -----  \n",
            " 0   instant     731 non-null    int64  \n",
            " 1   dteday      731 non-null    object \n",
            " 2   season      731 non-null    int64  \n",
            " 3   yr          731 non-null    int64  \n",
            " 4   mnth        731 non-null    int64  \n",
            " 5   holiday     731 non-null    int64  \n",
            " 6   weekday     731 non-null    int64  \n",
            " 7   workingday  731 non-null    int64  \n",
            " 8   weathersit  731 non-null    int64  \n",
            " 9   temp        731 non-null    float64\n",
            " 10  atemp       731 non-null    float64\n",
            " 11  hum         731 non-null    float64\n",
            " 12  windspeed   731 non-null    float64\n",
            " 13  casual      731 non-null    int64  \n",
            " 14  registered  731 non-null    int64  \n",
            " 15  cnt         731 non-null    int64  \n",
            "dtypes: float64(4), int64(11), object(1)\n",
            "memory usage: 91.5+ KB\n",
            "<class 'pandas.core.frame.DataFrame'>\n",
            "RangeIndex: 17379 entries, 0 to 17378\n",
            "Data columns (total 17 columns):\n",
            " #   Column      Non-Null Count  Dtype  \n",
            "---  ------      --------------  -----  \n",
            " 0   instant     17379 non-null  int64  \n",
            " 1   dteday      17379 non-null  object \n",
            " 2   season      17379 non-null  int64  \n",
            " 3   yr          17379 non-null  int64  \n",
            " 4   mnth        17379 non-null  int64  \n",
            " 5   hr          17379 non-null  int64  \n",
            " 6   holiday     17379 non-null  int64  \n",
            " 7   weekday     17379 non-null  int64  \n",
            " 8   workingday  17379 non-null  int64  \n",
            " 9   weathersit  17379 non-null  int64  \n",
            " 10  temp        17379 non-null  float64\n",
            " 11  atemp       17379 non-null  float64\n",
            " 12  hum         17379 non-null  float64\n",
            " 13  windspeed   17379 non-null  float64\n",
            " 14  casual      17379 non-null  int64  \n",
            " 15  registered  17379 non-null  int64  \n",
            " 16  cnt         17379 non-null  int64  \n",
            "dtypes: float64(4), int64(12), object(1)\n",
            "memory usage: 2.3+ MB\n"
          ]
        }
      ]
    },
    {
      "cell_type": "markdown",
      "metadata": {
        "id": "EhN5R4hr8DC1"
      },
      "source": [
        "### Cleaning Data"
      ]
    },
    {
      "cell_type": "code",
      "source": [
        "st.header('Cleaning Data')\n",
        "day_df.drop_duplicates(inplace=True) #Duplikat data\n",
        "st.write(\"Jumlah duplikasi hari : \", day_df.duplicated().sum())\n",
        "\n",
        "st.write(\"Missing values in day_df:\") #missing value\n",
        "st.write(day_df.isna().sum())\n",
        "st.write(\"Missing values in hour_df:\")\n",
        "st.write(hour_df.isna().sum())"
      ],
      "metadata": {
        "id": "jVnYpprE9Evz",
        "colab": {
          "base_uri": "https://localhost:8080/"
        },
        "outputId": "eaf33d14-93c0-4eec-98c0-74728e7afa63"
      },
      "execution_count": 125,
      "outputs": [
        {
          "output_type": "stream",
          "name": "stdout",
          "text": [
            "Jumlah duplikasi hari :  0\n"
          ]
        },
        {
          "output_type": "execute_result",
          "data": {
            "text/plain": [
              "2011-01-01    1\n",
              "2012-04-25    1\n",
              "2012-04-27    1\n",
              "2012-04-28    1\n",
              "2012-04-29    1\n",
              "             ..\n",
              "2011-09-03    1\n",
              "2011-09-04    1\n",
              "2011-09-05    1\n",
              "2011-09-06    1\n",
              "2012-12-31    1\n",
              "Name: dteday, Length: 731, dtype: int64"
            ]
          },
          "metadata": {},
          "execution_count": 125
        }
      ]
    },
    {
      "cell_type": "markdown",
      "source": [],
      "metadata": {
        "id": "28FNJK31qiu5"
      }
    },
    {
      "cell_type": "markdown",
      "metadata": {
        "id": "gp-Y6wU38DC1"
      },
      "source": [
        "## Exploratory Data Analysis (EDA)"
      ]
    },
    {
      "cell_type": "code",
      "source": [
        "#antara workingday dan weathersit\n",
        "st.bar_chart(day_df['workingday'].value_counts()) #distribusi dari workingday\n",
        "st.write(day_df['workingday'].describe()) #statistik dari workingday\n",
        "hour_df.sample(5)\n",
        "st.bar_chart(hour_df['weathersit'].value_counts()) #distribusi dari weathersit\n",
        "st.write(hour_df['weathersit'].describe()) #statistik dari weathersit\n"
      ],
      "metadata": {
        "id": "i4ooANBZOUmf"
      },
      "execution_count": 150,
      "outputs": []
    },
    {
      "cell_type": "markdown",
      "metadata": {
        "id": "MW7WF2kr8DC1"
      },
      "source": [
        "### Explore Day_df dan Hour_df"
      ]
    },
    {
      "cell_type": "code",
      "execution_count": 135,
      "metadata": {
        "id": "e9CQCZjk8DC2"
      },
      "outputs": [],
      "source": [
        "#menggabungkan day_df dan hour_df\n",
        "hour_df = pd.merge(\n",
        "    left=day_df,\n",
        "    right=hour_df,\n",
        "    how=\"left\",\n",
        "    left_on=\"dteday\",\n",
        "    right_on=\"dteday\"\n",
        ")\n",
        "st.write(hour_df.head())"
      ]
    },
    {
      "cell_type": "markdown",
      "metadata": {
        "id": "zsyZjqak8DC2"
      },
      "source": [
        "## Visualization & Explanatory Analysis"
      ]
    },
    {
      "cell_type": "markdown",
      "metadata": {
        "id": "HZxOiQ6n8DC2"
      },
      "source": [
        "### Pertanyaan 1: Scatter Plot Suhu & dan jumlah perjalanan.\n",
        "Membuat scatter plot ini gunanya untuk membandingkan suhu dengan jumlah perjalanan pada hari kerja."
      ]
    },
    {
      "cell_type": "code",
      "execution_count": null,
      "metadata": {
        "id": "1swJUdAD8DC2"
      },
      "outputs": [],
      "source": [
        "fig, ax = plt.subplots(figsize=(10, 5))\n",
        "ax.scatter(x=day_df['temp'], y=day_df['cnt'], c=day_df['workingday'], cmap='viridis')\n",
        "ax.set_title('Suhu (temp) dan Jumlah Perjalanan (count)')\n",
        "ax.set_xlabel('Temp')\n",
        "ax.set_ylabel('Count')\n",
        "st.pyplot(fig)"
      ]
    },
    {
      "cell_type": "markdown",
      "metadata": {
        "id": "DgHI7CiU8DC2"
      },
      "source": [
        "### Pertanyaan 2: Grafik garis pola pengguna harian.\n",
        "Membuat grafik garis dari pola pengguna harian pada bike-sharing-datasheet di hari kerja dan di hari luar kerja."
      ]
    },
    {
      "cell_type": "code",
      "execution_count": 137,
      "metadata": {
        "id": "Go0lCsvO8DC2",
        "colab": {
          "base_uri": "https://localhost:8080/"
        },
        "outputId": "f1d14869-4d7e-43c7-d2ab-c2005aa98a4d"
      },
      "outputs": [
        {
          "output_type": "execute_result",
          "data": {
            "text/plain": [
              "DeltaGenerator()"
            ]
          },
          "metadata": {},
          "execution_count": 137
        }
      ],
      "source": [
        "fig, ax = plt.subplots(figsize=(10, 5))\n",
        "ax.plot(day_df['dteday'], day_df['cnt'], marker='o', linestyle='-')\n",
        "ax.set_title('Pola Pengguna Harian')\n",
        "ax.set_xlabel('Date')\n",
        "ax.set_ylabel('Count')\n",
        "ax.tick_params(axis='x', rotation=45)\n",
        "st.pyplot(fig)"
      ]
    },
    {
      "cell_type": "markdown",
      "metadata": {
        "id": "_WeHlCeX8DC2"
      },
      "source": [
        "## Conclusion"
      ]
    },
    {
      "cell_type": "markdown",
      "metadata": {
        "id": "ZTcyR48Y8DC2"
      },
      "source": [
        "- Pertanyaan 1 : Menunjukkan bahwa pada hari kerja pengguna terdaftar cenderung menyewa sepeda lebih banyak utama saat suhu tinggi. Di hari libur, pola ini bisa saja berbeda dan terlihat adanya perbedaan secara signifikan diantara pengguna terdaftar dan tidak terdaftar.\n",
        "- Pertanyaan 2 : Menunnjukkan bahwa pada hari kerja, terdapat korelasi positif antara suhu dan jumlah perjalanan, terutama untuk pengguna terdaftar saja. Namun, pada hari libur mungkin saja pola ini bisa berbeda dan memerlukan lebih banyak lagi eksplorasi untuk kedepannya."
      ]
    },
    {
      "cell_type": "code",
      "source": [
        "# Sidebar for date and time selection\n",
        "st.sidebar.header('Pilih Hari dan Jam')\n",
        "selected_day = st.sidebar.selectbox('Pilih Hari', day_df['dteday'].unique())\n",
        "selected_hour = st.sidebar.selectbox('Pilih Jam', hour_df['hr'].unique())\n",
        "# Filter data based on selected day and hour\n",
        "day_filtered_data = day_df[day_df['dteday'] == selected_day]\n",
        "hour_filtered_data = hour_df[(hour_df['dteday'] == selected_day) & (hour_df['hr'] == selected_hour)]\n"
      ],
      "metadata": {
        "id": "aW33aambr0ZM"
      },
      "execution_count": 147,
      "outputs": []
    }
  ],
  "metadata": {
    "kernelspec": {
      "display_name": "Python 3",
      "language": "python",
      "name": "python3"
    },
    "language_info": {
      "name": "python",
      "version": "3.8.0 (tags/v3.8.0:fa919fd, Oct 14 2019, 19:21:23) [MSC v.1916 32 bit (Intel)]"
    },
    "orig_nbformat": 4,
    "vscode": {
      "interpreter": {
        "hash": "972b3bf27e332e87b5379f2791f6ef9dfc79c71018c370b0d7423235e20fe4d7"
      }
    },
    "colab": {
      "provenance": [],
      "collapsed_sections": [
        "FHSiqaZp8DC1",
        "EhN5R4hr8DC1",
        "gp-Y6wU38DC1",
        "zsyZjqak8DC2",
        "HZxOiQ6n8DC2",
        "DgHI7CiU8DC2"
      ]
    }
  },
  "nbformat": 4,
  "nbformat_minor": 0
}